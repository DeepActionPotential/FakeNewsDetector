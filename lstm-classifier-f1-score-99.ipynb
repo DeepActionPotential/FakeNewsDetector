{
 "cells": [
  {
   "cell_type": "markdown",
   "metadata": {},
   "source": [
    "![image.png](https://impact.stanford.edu/sites/default/files/styles/og_image/public/2022-11/facts%20fake%20news%20stock.jpeg?itok=tzHVd3R1)"
   ]
  },
  {
   "cell_type": "markdown",
   "metadata": {},
   "source": [
    "With the growing spread of misinformation online, detecting fake news has become a critical challenge. This project aims to build a binary text classification model to distinguish between real and fake news articles using natural language processing and deep learning techniques. The dataset includes titles, full texts, subjects, and dates for both fake and real news samples. By training on this data, the model will learn to identify linguistic patterns that signal fake content, helping automate misinformation detection."
   ]
  },
  {
   "cell_type": "markdown",
   "metadata": {},
   "source": [
    "### Main tools"
   ]
  },
  {
   "cell_type": "code",
   "execution_count": 29,
   "metadata": {
    "execution": {
     "iopub.execute_input": "2025-06-24T10:35:07.721055Z",
     "iopub.status.busy": "2025-06-24T10:35:07.720552Z",
     "iopub.status.idle": "2025-06-24T10:35:10.699149Z",
     "shell.execute_reply": "2025-06-24T10:35:10.698229Z",
     "shell.execute_reply.started": "2025-06-24T10:35:07.721021Z"
    },
    "trusted": true
   },
   "outputs": [],
   "source": [
    "!pip install contractions -q"
   ]
  },
  {
   "cell_type": "code",
   "execution_count": 30,
   "metadata": {
    "execution": {
     "iopub.execute_input": "2025-06-24T10:35:16.760598Z",
     "iopub.status.busy": "2025-06-24T10:35:16.760093Z",
     "iopub.status.idle": "2025-06-24T10:35:16.767722Z",
     "shell.execute_reply": "2025-06-24T10:35:16.766953Z",
     "shell.execute_reply.started": "2025-06-24T10:35:16.760552Z"
    },
    "trusted": true
   },
   "outputs": [
    {
     "name": "stderr",
     "output_type": "stream",
     "text": [
      "[nltk_data] Downloading package stopwords to /usr/share/nltk_data...\n",
      "[nltk_data]   Package stopwords is already up-to-date!\n"
     ]
    }
   ],
   "source": [
    "import pandas as pd\n",
    "import matplotlib.pyplot as plt\n",
    "import seaborn as sns\n",
    "import numpy as np\n",
    "import re\n",
    "import string\n",
    "from wordcloud import WordCloud\n",
    "import nltk\n",
    "from collections import Counter\n",
    "import contractions\n",
    "from tqdm import tqdm\n",
    "\n",
    "\n",
    "import torch\n",
    "import torch.nn as nn\n",
    "from torch.utils.data import Dataset, DataLoader\n",
    "import torch.optim as optim\n",
    "\n",
    "\n",
    "from sklearn.metrics import accuracy_score, precision_score, recall_score, f1_score, confusion_matrix\n",
    "from sklearn.model_selection import train_test_split\n",
    "\n",
    "\n",
    "\n",
    "nltk.download('stopwords')\n",
    "from nltk.corpus import stopwords\n",
    "\n",
    "# Assuming you already have `df` (combined Fake and Real data)\n",
    "stop_words = set(stopwords.words(\"english\"))\n"
   ]
  },
  {
   "cell_type": "markdown",
   "metadata": {},
   "source": [
    "## Exploratory Data Analayis"
   ]
  },
  {
   "cell_type": "markdown",
   "metadata": {},
   "source": [
    "Combine df of fake and real datasets together."
   ]
  },
  {
   "cell_type": "code",
   "execution_count": 31,
   "metadata": {
    "execution": {
     "iopub.execute_input": "2025-06-24T10:35:16.769257Z",
     "iopub.status.busy": "2025-06-24T10:35:16.768989Z",
     "iopub.status.idle": "2025-06-24T10:35:18.252815Z",
     "shell.execute_reply": "2025-06-24T10:35:18.252083Z",
     "shell.execute_reply.started": "2025-06-24T10:35:16.769234Z"
    },
    "trusted": true
   },
   "outputs": [],
   "source": [
    "# Load datasets\n",
    "fake_df = pd.read_csv(\"/kaggle/input/fake-and-real-news-dataset/Fake.csv\")\n",
    "real_df = pd.read_csv(\"/kaggle/input/fake-and-real-news-dataset/True.csv\")"
   ]
  },
  {
   "cell_type": "code",
   "execution_count": 32,
   "metadata": {
    "execution": {
     "iopub.execute_input": "2025-06-24T10:35:18.381891Z",
     "iopub.status.busy": "2025-06-24T10:35:18.381463Z",
     "iopub.status.idle": "2025-06-24T10:35:18.573307Z",
     "shell.execute_reply": "2025-06-24T10:35:18.572777Z",
     "shell.execute_reply.started": "2025-06-24T10:35:18.381870Z"
    },
    "trusted": true
   },
   "outputs": [],
   "source": [
    "fake_df['label'] = 0\n",
    "real_df['label'] = 1\n",
    "\n",
    "\n",
    "df = pd.concat([fake_df, real_df], ignore_index=True)\n",
    "df = df.sample(frac=1, random_state=42).reset_index(drop=True)\n",
    "\n",
    "# Combine title and text\n",
    "df['combined_text'] = df['title'] + \" \" + df['text']"
   ]
  },
  {
   "cell_type": "markdown",
   "metadata": {},
   "source": [
    "Clean text"
   ]
  },
  {
   "cell_type": "code",
   "execution_count": 33,
   "metadata": {
    "execution": {
     "iopub.execute_input": "2025-06-24T10:35:24.457446Z",
     "iopub.status.busy": "2025-06-24T10:35:24.457208Z",
     "iopub.status.idle": "2025-06-24T10:35:24.462688Z",
     "shell.execute_reply": "2025-06-24T10:35:24.461821Z",
     "shell.execute_reply.started": "2025-06-24T10:35:24.457428Z"
    },
    "trusted": true
   },
   "outputs": [],
   "source": [
    "def clean_text(text):\n",
    "    text = contractions.fix(text)                         # Expand contractions\n",
    "    text = text.encode(\"ascii\", errors=\"ignore\").decode() # Remove non-ASCII chars\n",
    "    text = text.lower()                                   # Lowercase\n",
    "    text = re.sub(r\"http\\S+|www.\\S+\", \"\", text)           # Remove URLs\n",
    "    text = re.sub(r\"<.*?>\", \"\", text)                     # Remove HTML tags\n",
    "    text = re.sub(r\"[^a-z\\s]\", \"\", text)                  # Keep only letters and spaces\n",
    "    text = re.sub(r\"\\b\\w{1}\\b\", \"\", text)                 # Remove single-letter words\n",
    "    text = re.sub(r\"\\s+\", \" \", text).strip()              # Remove extra spaces\n",
    "    words = text.split()\n",
    "    words = [word for word in words if word not in stop_words]  # Remove stopwords\n",
    "    return \" \".join(words)\n",
    "\n"
   ]
  },
  {
   "cell_type": "code",
   "execution_count": 34,
   "metadata": {
    "execution": {
     "iopub.execute_input": "2025-06-24T10:35:25.747912Z",
     "iopub.status.busy": "2025-06-24T10:35:25.747350Z",
     "iopub.status.idle": "2025-06-24T10:35:45.080539Z",
     "shell.execute_reply": "2025-06-24T10:35:45.079855Z",
     "shell.execute_reply.started": "2025-06-24T10:35:25.747886Z"
    },
    "trusted": true
   },
   "outputs": [
    {
     "data": {
      "text/html": [
       "<div>\n",
       "<style scoped>\n",
       "    .dataframe tbody tr th:only-of-type {\n",
       "        vertical-align: middle;\n",
       "    }\n",
       "\n",
       "    .dataframe tbody tr th {\n",
       "        vertical-align: top;\n",
       "    }\n",
       "\n",
       "    .dataframe thead th {\n",
       "        text-align: right;\n",
       "    }\n",
       "</style>\n",
       "<table border=\"1\" class=\"dataframe\">\n",
       "  <thead>\n",
       "    <tr style=\"text-align: right;\">\n",
       "      <th></th>\n",
       "      <th>clean_text</th>\n",
       "      <th>label</th>\n",
       "    </tr>\n",
       "  </thead>\n",
       "  <tbody>\n",
       "    <tr>\n",
       "      <th>0</th>\n",
       "      <td>ben stein calls th circuit court committed cou...</td>\n",
       "      <td>0</td>\n",
       "    </tr>\n",
       "    <tr>\n",
       "      <th>1</th>\n",
       "      <td>trump drops steve bannon national security cou...</td>\n",
       "      <td>1</td>\n",
       "    </tr>\n",
       "    <tr>\n",
       "      <th>2</th>\n",
       "      <td>puerto rico expects yous lift jones act shippi...</td>\n",
       "      <td>1</td>\n",
       "    </tr>\n",
       "    <tr>\n",
       "      <th>3</th>\n",
       "      <td>oops trump accidentally confirmed leaked israe...</td>\n",
       "      <td>0</td>\n",
       "    </tr>\n",
       "    <tr>\n",
       "      <th>4</th>\n",
       "      <td>donald trump heads scotland reopen golf resort...</td>\n",
       "      <td>1</td>\n",
       "    </tr>\n",
       "  </tbody>\n",
       "</table>\n",
       "</div>"
      ],
      "text/plain": [
       "                                          clean_text  label\n",
       "0  ben stein calls th circuit court committed cou...      0\n",
       "1  trump drops steve bannon national security cou...      1\n",
       "2  puerto rico expects yous lift jones act shippi...      1\n",
       "3  oops trump accidentally confirmed leaked israe...      0\n",
       "4  donald trump heads scotland reopen golf resort...      1"
      ]
     },
     "execution_count": 34,
     "metadata": {},
     "output_type": "execute_result"
    }
   ],
   "source": [
    "df['clean_text'] = df['combined_text'].apply(clean_text)\n",
    "df[['clean_text', 'label']].head()"
   ]
  },
  {
   "cell_type": "code",
   "execution_count": 35,
   "metadata": {
    "execution": {
     "iopub.execute_input": "2025-06-24T10:35:45.082298Z",
     "iopub.status.busy": "2025-06-24T10:35:45.081985Z",
     "iopub.status.idle": "2025-06-24T10:35:45.201162Z",
     "shell.execute_reply": "2025-06-24T10:35:45.200404Z",
     "shell.execute_reply.started": "2025-06-24T10:35:45.082268Z"
    },
    "trusted": true
   },
   "outputs": [
    {
     "data": {
      "image/png": "[encoded data removed]",
      "text/plain": [
       "<Figure size 640x480 with 1 Axes>"
      ]
     },
     "metadata": {},
     "output_type": "display_data"
    }
   ],
   "source": [
    "sns.countplot(x=\"label\", data=df)\n",
    "plt.xticks([0, 1], [\"Fake\", \"Real\"])\n",
    "plt.title(\"Distribution of News Classes\")\n",
    "plt.xlabel(\"Label\")\n",
    "plt.ylabel(\"Count\")\n",
    "plt.show()\n"
   ]
  },
  {
   "cell_type": "markdown",
   "metadata": {},
   "source": [
    "As shown in the plot above, we do not need to use data balancing techniques, as the the data is already has a good balance."
   ]
  },
  {
   "cell_type": "code",
   "execution_count": 36,
   "metadata": {
    "execution": {
     "iopub.execute_input": "2025-06-24T10:35:45.202128Z",
     "iopub.status.busy": "2025-06-24T10:35:45.201900Z",
     "iopub.status.idle": "2025-06-24T10:35:45.368767Z",
     "shell.execute_reply": "2025-06-24T10:35:45.367963Z",
     "shell.execute_reply.started": "2025-06-24T10:35:45.202105Z"
    },
    "trusted": true
   },
   "outputs": [
    {
     "data": {
      "image/png": "[encoded data removed]",
      "text/plain": [
       "<Figure size 1000x500 with 1 Axes>"
      ]
     },
     "metadata": {},
     "output_type": "display_data"
    }
   ],
   "source": [
    "plt.figure(figsize=(10, 5))\n",
    "sns.countplot(data=df, x=\"subject\", order=df[\"subject\"].value_counts().index)\n",
    "plt.title(\"Distribution of News Subjects\")\n",
    "plt.xticks(rotation=45)\n",
    "plt.show()\n"
   ]
  },
  {
   "cell_type": "code",
   "execution_count": 37,
   "metadata": {
    "execution": {
     "iopub.execute_input": "2025-06-24T10:35:45.371081Z",
     "iopub.status.busy": "2025-06-24T10:35:45.370791Z",
     "iopub.status.idle": "2025-06-24T10:35:46.794755Z",
     "shell.execute_reply": "2025-06-24T10:35:46.794005Z",
     "shell.execute_reply.started": "2025-06-24T10:35:45.371056Z"
    },
    "trusted": true
   },
   "outputs": [
    {
     "name": "stderr",
     "output_type": "stream",
     "text": [
      "/usr/local/lib/python3.11/dist-packages/seaborn/_oldcore.py:1119: FutureWarning: use_inf_as_na option is deprecated and will be removed in a future version. Convert inf values to NaN before operating instead.\n",
      "  with pd.option_context('mode.use_inf_as_na', True):\n"
     ]
    },
    {
     "data": {
      "image/png": "[encoded data removed]",
      "text/plain": [
       "<Figure size 640x480 with 1 Axes>"
      ]
     },
     "metadata": {},
     "output_type": "display_data"
    },
    {
     "name": "stderr",
     "output_type": "stream",
     "text": [
      "/usr/local/lib/python3.11/dist-packages/seaborn/_oldcore.py:1119: FutureWarning: use_inf_as_na option is deprecated and will be removed in a future version. Convert inf values to NaN before operating instead.\n",
      "  with pd.option_context('mode.use_inf_as_na', True):\n"
     ]
    },
    {
     "data": {
      "image/png": "[encoded data removed]",
      "text/plain": [
       "<Figure size 640x480 with 1 Axes>"
      ]
     },
     "metadata": {},
     "output_type": "display_data"
    }
   ],
   "source": [
    "df[\"text_length\"] = df[\"clean_text\"].apply(lambda x: len(x.split()))\n",
    "df[\"char_length\"] = df[\"clean_text\"].apply(len)\n",
    "\n",
    "# Word count\n",
    "sns.histplot(df[\"text_length\"], bins=50, kde=True)\n",
    "plt.title(\"Distribution of Word Counts in Articles\")\n",
    "plt.xlabel(\"Word Count\")\n",
    "plt.ylabel(\"Frequency\")\n",
    "plt.show()\n",
    "\n",
    "# Character count\n",
    "sns.histplot(df[\"char_length\"], bins=50, kde=True, color='orange')\n",
    "plt.title(\"Distribution of Character Counts in Articles\")\n",
    "plt.xlabel(\"Character Count\")\n",
    "plt.ylabel(\"Frequency\")\n",
    "plt.show()\n"
   ]
  },
  {
   "cell_type": "markdown",
   "metadata": {},
   "source": [
    "Final Data Frame"
   ]
  },
  {
   "cell_type": "code",
   "execution_count": 38,
   "metadata": {
    "execution": {
     "iopub.execute_input": "2025-06-24T10:35:46.795685Z",
     "iopub.status.busy": "2025-06-24T10:35:46.795452Z",
     "iopub.status.idle": "2025-06-24T10:35:46.807226Z",
     "shell.execute_reply": "2025-06-24T10:35:46.806390Z",
     "shell.execute_reply.started": "2025-06-24T10:35:46.795668Z"
    },
    "trusted": true
   },
   "outputs": [
    {
     "data": {
      "text/html": [
       "<div>\n",
       "<style scoped>\n",
       "    .dataframe tbody tr th:only-of-type {\n",
       "        vertical-align: middle;\n",
       "    }\n",
       "\n",
       "    .dataframe tbody tr th {\n",
       "        vertical-align: top;\n",
       "    }\n",
       "\n",
       "    .dataframe thead th {\n",
       "        text-align: right;\n",
       "    }\n",
       "</style>\n",
       "<table border=\"1\" class=\"dataframe\">\n",
       "  <thead>\n",
       "    <tr style=\"text-align: right;\">\n",
       "      <th></th>\n",
       "      <th>title</th>\n",
       "      <th>text</th>\n",
       "      <th>subject</th>\n",
       "      <th>date</th>\n",
       "      <th>label</th>\n",
       "      <th>combined_text</th>\n",
       "      <th>clean_text</th>\n",
       "      <th>text_length</th>\n",
       "      <th>char_length</th>\n",
       "    </tr>\n",
       "  </thead>\n",
       "  <tbody>\n",
       "    <tr>\n",
       "      <th>0</th>\n",
       "      <td>Ben Stein Calls Out 9th Circuit Court: Committ...</td>\n",
       "      <td>21st Century Wire says Ben Stein, reputable pr...</td>\n",
       "      <td>US_News</td>\n",
       "      <td>February 13, 2017</td>\n",
       "      <td>0</td>\n",
       "      <td>Ben Stein Calls Out 9th Circuit Court: Committ...</td>\n",
       "      <td>ben stein calls th circuit court committed cou...</td>\n",
       "      <td>109</td>\n",
       "      <td>802</td>\n",
       "    </tr>\n",
       "    <tr>\n",
       "      <th>1</th>\n",
       "      <td>Trump drops Steve Bannon from National Securit...</td>\n",
       "      <td>WASHINGTON (Reuters) - U.S. President Donald T...</td>\n",
       "      <td>politicsNews</td>\n",
       "      <td>April 5, 2017</td>\n",
       "      <td>1</td>\n",
       "      <td>Trump drops Steve Bannon from National Securit...</td>\n",
       "      <td>trump drops steve bannon national security cou...</td>\n",
       "      <td>472</td>\n",
       "      <td>3613</td>\n",
       "    </tr>\n",
       "    <tr>\n",
       "      <th>2</th>\n",
       "      <td>Puerto Rico expects U.S. to lift Jones Act shi...</td>\n",
       "      <td>(Reuters) - Puerto Rico Governor Ricardo Rosse...</td>\n",
       "      <td>politicsNews</td>\n",
       "      <td>September 27, 2017</td>\n",
       "      <td>1</td>\n",
       "      <td>Puerto Rico expects U.S. to lift Jones Act shi...</td>\n",
       "      <td>puerto rico expects yous lift jones act shippi...</td>\n",
       "      <td>182</td>\n",
       "      <td>1347</td>\n",
       "    </tr>\n",
       "    <tr>\n",
       "      <th>3</th>\n",
       "      <td>OOPS: Trump Just Accidentally Confirmed He Le...</td>\n",
       "      <td>On Monday, Donald Trump once again embarrassed...</td>\n",
       "      <td>News</td>\n",
       "      <td>May 22, 2017</td>\n",
       "      <td>0</td>\n",
       "      <td>OOPS: Trump Just Accidentally Confirmed He Le...</td>\n",
       "      <td>oops trump accidentally confirmed leaked israe...</td>\n",
       "      <td>114</td>\n",
       "      <td>943</td>\n",
       "    </tr>\n",
       "    <tr>\n",
       "      <th>4</th>\n",
       "      <td>Donald Trump heads for Scotland to reopen a go...</td>\n",
       "      <td>GLASGOW, Scotland (Reuters) - Most U.S. presid...</td>\n",
       "      <td>politicsNews</td>\n",
       "      <td>June 24, 2016</td>\n",
       "      <td>1</td>\n",
       "      <td>Donald Trump heads for Scotland to reopen a go...</td>\n",
       "      <td>donald trump heads scotland reopen golf resort...</td>\n",
       "      <td>305</td>\n",
       "      <td>2278</td>\n",
       "    </tr>\n",
       "    <tr>\n",
       "      <th>...</th>\n",
       "      <td>...</td>\n",
       "      <td>...</td>\n",
       "      <td>...</td>\n",
       "      <td>...</td>\n",
       "      <td>...</td>\n",
       "      <td>...</td>\n",
       "      <td>...</td>\n",
       "      <td>...</td>\n",
       "      <td>...</td>\n",
       "    </tr>\n",
       "    <tr>\n",
       "      <th>44893</th>\n",
       "      <td>UNREAL! CBS’S TED KOPPEL Tells Sean Hannity He...</td>\n",
       "      <td></td>\n",
       "      <td>politics</td>\n",
       "      <td>Mar 27, 2017</td>\n",
       "      <td>0</td>\n",
       "      <td>UNREAL! CBS’S TED KOPPEL Tells Sean Hannity He...</td>\n",
       "      <td>unreal cbss ted koppel tells sean hannity bad ...</td>\n",
       "      <td>10</td>\n",
       "      <td>59</td>\n",
       "    </tr>\n",
       "    <tr>\n",
       "      <th>44894</th>\n",
       "      <td>PM May seeks to ease Japan's Brexit fears duri...</td>\n",
       "      <td>LONDON/TOKYO (Reuters) - British Prime Ministe...</td>\n",
       "      <td>worldnews</td>\n",
       "      <td>August 29, 2017</td>\n",
       "      <td>1</td>\n",
       "      <td>PM May seeks to ease Japan's Brexit fears duri...</td>\n",
       "      <td>pm may seeks ease japans brexit fears trade vi...</td>\n",
       "      <td>429</td>\n",
       "      <td>3224</td>\n",
       "    </tr>\n",
       "    <tr>\n",
       "      <th>44895</th>\n",
       "      <td>Merkel: Difficult German coalition talks can r...</td>\n",
       "      <td>BERLIN (Reuters) - Chancellor Angela Merkel sa...</td>\n",
       "      <td>worldnews</td>\n",
       "      <td>November 16, 2017</td>\n",
       "      <td>1</td>\n",
       "      <td>Merkel: Difficult German coalition talks can r...</td>\n",
       "      <td>merkel difficult german coalition talks reach ...</td>\n",
       "      <td>45</td>\n",
       "      <td>341</td>\n",
       "    </tr>\n",
       "    <tr>\n",
       "      <th>44896</th>\n",
       "      <td>Trump Stole An Idea From North Korean Propaga...</td>\n",
       "      <td>Jesus f*cking Christ our President* is a moron...</td>\n",
       "      <td>News</td>\n",
       "      <td>July 14, 2017</td>\n",
       "      <td>0</td>\n",
       "      <td>Trump Stole An Idea From North Korean Propaga...</td>\n",
       "      <td>trump stole idea north korean propaganda parod...</td>\n",
       "      <td>480</td>\n",
       "      <td>3279</td>\n",
       "    </tr>\n",
       "    <tr>\n",
       "      <th>44897</th>\n",
       "      <td>BREAKING: HILLARY CLINTON’S STATE DEPARTMENT G...</td>\n",
       "      <td>IF SHE S NOT TOAST NOW THEN WE RE IN BIGGER TR...</td>\n",
       "      <td>politics</td>\n",
       "      <td>Apr 23, 2015</td>\n",
       "      <td>0</td>\n",
       "      <td>BREAKING: HILLARY CLINTON’S STATE DEPARTMENT G...</td>\n",
       "      <td>breaking hillary clintons state department gav...</td>\n",
       "      <td>149</td>\n",
       "      <td>1127</td>\n",
       "    </tr>\n",
       "  </tbody>\n",
       "</table>\n",
       "<p>44898 rows × 9 columns</p>\n",
       "</div>"
      ],
      "text/plain": [
       "                                                   title  \\\n",
       "0      Ben Stein Calls Out 9th Circuit Court: Committ...   \n",
       "1      Trump drops Steve Bannon from National Securit...   \n",
       "2      Puerto Rico expects U.S. to lift Jones Act shi...   \n",
       "3       OOPS: Trump Just Accidentally Confirmed He Le...   \n",
       "4      Donald Trump heads for Scotland to reopen a go...   \n",
       "...                                                  ...   \n",
       "44893  UNREAL! CBS’S TED KOPPEL Tells Sean Hannity He...   \n",
       "44894  PM May seeks to ease Japan's Brexit fears duri...   \n",
       "44895  Merkel: Difficult German coalition talks can r...   \n",
       "44896   Trump Stole An Idea From North Korean Propaga...   \n",
       "44897  BREAKING: HILLARY CLINTON’S STATE DEPARTMENT G...   \n",
       "\n",
       "                                                    text       subject  \\\n",
       "0      21st Century Wire says Ben Stein, reputable pr...       US_News   \n",
       "1      WASHINGTON (Reuters) - U.S. President Donald T...  politicsNews   \n",
       "2      (Reuters) - Puerto Rico Governor Ricardo Rosse...  politicsNews   \n",
       "3      On Monday, Donald Trump once again embarrassed...          News   \n",
       "4      GLASGOW, Scotland (Reuters) - Most U.S. presid...  politicsNews   \n",
       "...                                                  ...           ...   \n",
       "44893                                                         politics   \n",
       "44894  LONDON/TOKYO (Reuters) - British Prime Ministe...     worldnews   \n",
       "44895  BERLIN (Reuters) - Chancellor Angela Merkel sa...     worldnews   \n",
       "44896  Jesus f*cking Christ our President* is a moron...          News   \n",
       "44897  IF SHE S NOT TOAST NOW THEN WE RE IN BIGGER TR...      politics   \n",
       "\n",
       "                      date  label  \\\n",
       "0        February 13, 2017      0   \n",
       "1           April 5, 2017       1   \n",
       "2      September 27, 2017       1   \n",
       "3             May 22, 2017      0   \n",
       "4           June 24, 2016       1   \n",
       "...                    ...    ...   \n",
       "44893         Mar 27, 2017      0   \n",
       "44894     August 29, 2017       1   \n",
       "44895   November 16, 2017       1   \n",
       "44896        July 14, 2017      0   \n",
       "44897         Apr 23, 2015      0   \n",
       "\n",
       "                                           combined_text  \\\n",
       "0      Ben Stein Calls Out 9th Circuit Court: Committ...   \n",
       "1      Trump drops Steve Bannon from National Securit...   \n",
       "2      Puerto Rico expects U.S. to lift Jones Act shi...   \n",
       "3       OOPS: Trump Just Accidentally Confirmed He Le...   \n",
       "4      Donald Trump heads for Scotland to reopen a go...   \n",
       "...                                                  ...   \n",
       "44893  UNREAL! CBS’S TED KOPPEL Tells Sean Hannity He...   \n",
       "44894  PM May seeks to ease Japan's Brexit fears duri...   \n",
       "44895  Merkel: Difficult German coalition talks can r...   \n",
       "44896   Trump Stole An Idea From North Korean Propaga...   \n",
       "44897  BREAKING: HILLARY CLINTON’S STATE DEPARTMENT G...   \n",
       "\n",
       "                                              clean_text  text_length  \\\n",
       "0      ben stein calls th circuit court committed cou...          109   \n",
       "1      trump drops steve bannon national security cou...          472   \n",
       "2      puerto rico expects yous lift jones act shippi...          182   \n",
       "3      oops trump accidentally confirmed leaked israe...          114   \n",
       "4      donald trump heads scotland reopen golf resort...          305   \n",
       "...                                                  ...          ...   \n",
       "44893  unreal cbss ted koppel tells sean hannity bad ...           10   \n",
       "44894  pm may seeks ease japans brexit fears trade vi...          429   \n",
       "44895  merkel difficult german coalition talks reach ...           45   \n",
       "44896  trump stole idea north korean propaganda parod...          480   \n",
       "44897  breaking hillary clintons state department gav...          149   \n",
       "\n",
       "       char_length  \n",
       "0              802  \n",
       "1             3613  \n",
       "2             1347  \n",
       "3              943  \n",
       "4             2278  \n",
       "...            ...  \n",
       "44893           59  \n",
       "44894         3224  \n",
       "44895          341  \n",
       "44896         3279  \n",
       "44897         1127  \n",
       "\n",
       "[44898 rows x 9 columns]"
      ]
     },
     "execution_count": 38,
     "metadata": {},
     "output_type": "execute_result"
    }
   ],
   "source": [
    "df"
   ]
  },
  {
   "cell_type": "markdown",
   "metadata": {},
   "source": [
    "## Text Tokenization"
   ]
  },
  {
   "cell_type": "markdown",
   "metadata": {},
   "source": [
    "I found out that a simple tokenizer using space will do the job without needing to download a tokenizers like Bert."
   ]
  },
  {
   "cell_type": "code",
   "execution_count": 39,
   "metadata": {
    "execution": {
     "iopub.execute_input": "2025-06-24T10:35:46.808674Z",
     "iopub.status.busy": "2025-06-24T10:35:46.808068Z",
     "iopub.status.idle": "2025-06-24T10:35:48.450372Z",
     "shell.execute_reply": "2025-06-24T10:35:48.449616Z",
     "shell.execute_reply.started": "2025-06-24T10:35:46.808649Z"
    },
    "trusted": true
   },
   "outputs": [],
   "source": [
    "tokenized_texts = [text.split() for text in df['clean_text']]"
   ]
  },
  {
   "cell_type": "code",
   "execution_count": 40,
   "metadata": {
    "execution": {
     "iopub.execute_input": "2025-06-24T10:35:48.451849Z",
     "iopub.status.busy": "2025-06-24T10:35:48.451539Z",
     "iopub.status.idle": "2025-06-24T10:35:50.799482Z",
     "shell.execute_reply": "2025-06-24T10:35:50.798721Z",
     "shell.execute_reply.started": "2025-06-24T10:35:48.451824Z"
    },
    "trusted": true
   },
   "outputs": [],
   "source": [
    "# Build vocabulary\n",
    "word_counter = Counter(word for tokens in tokenized_texts for word in tokens)\n",
    "vocab_size = 10000  # Limit vocab size\n",
    "most_common = word_counter.most_common(vocab_size - 2)"
   ]
  },
  {
   "cell_type": "code",
   "execution_count": 41,
   "metadata": {
    "execution": {
     "iopub.execute_input": "2025-06-24T10:35:50.800551Z",
     "iopub.status.busy": "2025-06-24T10:35:50.800327Z",
     "iopub.status.idle": "2025-06-24T10:35:50.813205Z",
     "shell.execute_reply": "2025-06-24T10:35:50.812456Z",
     "shell.execute_reply.started": "2025-06-24T10:35:50.800526Z"
    },
    "trusted": true
   },
   "outputs": [],
   "source": [
    "# Create word-to-index mappings\n",
    "word2idx = {word: idx + 2 for idx, (word, _) in enumerate(most_common)}\n",
    "word2idx[\"<PAD>\"] = 0\n",
    "word2idx[\"<UNK>\"] = 1\n",
    "idx2word = {idx: word for word, idx in word2idx.items()}\n"
   ]
  },
  {
   "cell_type": "markdown",
   "metadata": {},
   "source": [
    "## Dataset Preparation"
   ]
  },
  {
   "cell_type": "code",
   "execution_count": 42,
   "metadata": {
    "execution": {
     "iopub.execute_input": "2025-06-24T10:35:50.814290Z",
     "iopub.status.busy": "2025-06-24T10:35:50.813985Z",
     "iopub.status.idle": "2025-06-24T10:35:50.830799Z",
     "shell.execute_reply": "2025-06-24T10:35:50.830154Z",
     "shell.execute_reply.started": "2025-06-24T10:35:50.814270Z"
    },
    "trusted": true
   },
   "outputs": [],
   "source": [
    "# Function to convert tokens to indices\n",
    "def encode(tokens, word2idx, max_len):\n",
    "    ids = [word2idx.get(word, word2idx[\"<UNK>\"]) for word in tokens]\n",
    "    if len(ids) < max_len:\n",
    "        ids += [word2idx[\"<PAD>\"]] * (max_len - len(ids))\n",
    "    else:\n",
    "        ids = ids[:max_len]\n",
    "    return ids"
   ]
  },
  {
   "cell_type": "code",
   "execution_count": 43,
   "metadata": {
    "execution": {
     "iopub.execute_input": "2025-06-24T10:35:50.832884Z",
     "iopub.status.busy": "2025-06-24T10:35:50.832690Z",
     "iopub.status.idle": "2025-06-24T10:35:52.251187Z",
     "shell.execute_reply": "2025-06-24T10:35:52.250354Z",
     "shell.execute_reply.started": "2025-06-24T10:35:50.832868Z"
    },
    "trusted": true
   },
   "outputs": [],
   "source": [
    "max_len = 300\n",
    "encoded_texts = [encode(tokens, word2idx, max_len) for tokens in tokenized_texts]\n",
    "labels = df['label'].values"
   ]
  },
  {
   "cell_type": "code",
   "execution_count": 44,
   "metadata": {
    "execution": {
     "iopub.execute_input": "2025-06-24T10:35:52.252485Z",
     "iopub.status.busy": "2025-06-24T10:35:52.252196Z",
     "iopub.status.idle": "2025-06-24T10:35:52.257361Z",
     "shell.execute_reply": "2025-06-24T10:35:52.256707Z",
     "shell.execute_reply.started": "2025-06-24T10:35:52.252459Z"
    },
    "trusted": true
   },
   "outputs": [],
   "source": [
    "# Create the custom dataset\n",
    "class NewsDataset(Dataset):\n",
    "    def __init__(self, inputs, labels):\n",
    "        self.inputs = torch.tensor(inputs, dtype=torch.long)\n",
    "        self.labels = torch.tensor(labels, dtype=torch.float32)\n",
    "\n",
    "    def __len__(self):\n",
    "        return len(self.labels)\n",
    "\n",
    "    def __getitem__(self, idx):\n",
    "        return self.inputs[idx], self.labels[idx]\n"
   ]
  },
  {
   "cell_type": "markdown",
   "metadata": {},
   "source": [
    "Split the dataset into Train, Val and Test splits."
   ]
  },
  {
   "cell_type": "code",
   "execution_count": 45,
   "metadata": {
    "execution": {
     "iopub.execute_input": "2025-06-24T10:35:52.258708Z",
     "iopub.status.busy": "2025-06-24T10:35:52.258163Z",
     "iopub.status.idle": "2025-06-24T10:35:52.406305Z",
     "shell.execute_reply": "2025-06-24T10:35:52.405514Z",
     "shell.execute_reply.started": "2025-06-24T10:35:52.258689Z"
    },
    "trusted": true
   },
   "outputs": [],
   "source": [
    "# Step 1: First split → train (70%) and temp (30%)\n",
    "X_train, X_temp, y_train, y_temp = train_test_split(\n",
    "    encoded_texts, labels, test_size=0.30, random_state=42, stratify=labels\n",
    ")\n",
    "\n",
    "# Step 2: Split temp into validation (15%) and test (15%)\n",
    "X_val, X_test, y_val, y_test = train_test_split(\n",
    "    X_temp, y_temp, test_size=0.50, random_state=42, stratify=y_temp\n",
    ")\n"
   ]
  },
  {
   "cell_type": "code",
   "execution_count": 46,
   "metadata": {
    "execution": {
     "iopub.execute_input": "2025-06-24T10:35:52.408042Z",
     "iopub.status.busy": "2025-06-24T10:35:52.407825Z",
     "iopub.status.idle": "2025-06-24T10:35:53.437896Z",
     "shell.execute_reply": "2025-06-24T10:35:53.437326Z",
     "shell.execute_reply.started": "2025-06-24T10:35:52.408026Z"
    },
    "trusted": true
   },
   "outputs": [],
   "source": [
    "# Create datasets\n",
    "train_dataset = NewsDataset(X_train, y_train)\n",
    "val_dataset   = NewsDataset(X_val, y_val)\n",
    "test_dataset  = NewsDataset(X_test, y_test)"
   ]
  },
  {
   "cell_type": "code",
   "execution_count": 47,
   "metadata": {
    "execution": {
     "iopub.execute_input": "2025-06-24T10:35:53.438973Z",
     "iopub.status.busy": "2025-06-24T10:35:53.438744Z",
     "iopub.status.idle": "2025-06-24T10:35:53.445872Z",
     "shell.execute_reply": "2025-06-24T10:35:53.445365Z",
     "shell.execute_reply.started": "2025-06-24T10:35:53.438954Z"
    },
    "trusted": true
   },
   "outputs": [
    {
     "data": {
      "text/plain": [
       "(tensor([4420, 1918,   39,  516,   35,   88, 9491,  127,   70,    3, 2898,   24,\n",
       "            8,  413, 1348,  306,   70,    3,  412, 1918,  965,  127,   70,   14,\n",
       "            3, 3105,  132,    1,    1,  934,    1,  757,  826,   38,  706, 2618,\n",
       "           19,  318,   86,  115, 2090,   36, 1174,    1, 3299,    3,  909,  353,\n",
       "          465, 1596,   38, 1334,   32,    1,  350,   27,   34,    1, 6685,  111,\n",
       "          374,  411,  227,   39,   24,   22,   16, 2678,  432,    5,  750,   64,\n",
       "            7,   50,  589,  153,   22,   16,    1,    2,   78, 4546,  219,    1,\n",
       "          295,  560,   56,  476,   55,   90,  997,  182, 3458,   70,    3,  153,\n",
       "         1549,   58,  412,  757, 3127,   88,   15,    1, 2240,  300, 2017,  135,\n",
       "          836, 1767,  685, 4673, 3268,  477,  801,    1, 5532,  412, 1711,  709,\n",
       "           61,   15,  580,  745, 2952,   30,   35,  934,  125,   10,   11, 1091,\n",
       "          469, 1347,  135,  169, 1217, 2188,  745,    6,  258, 1711,   42,   11,\n",
       "           15,  685,    1,   15, 1935,    1, 7253,  697,  635, 1088, 1627, 8995,\n",
       "           15,  685, 1845,    8,   35,  163, 2066, 9551, 5980,  934,  720,    9,\n",
       "          130,  379, 1689, 3989,    1,   61,   15, 1165,   33,    1,  412, 1918,\n",
       "            1, 2807,    1,  799,    1,  587, 1879, 7769,   15,  685,  397,    1,\n",
       "         3064,  935, 8670,   61,   15,   62, 5832,  281, 2142, 1827,  110,   88,\n",
       "          412, 3557,    1,  268, 9592,  379,   36, 1174,  849,  110,    1,  757,\n",
       "           18, 3050,  481,  935,    1,  455,  944,  223, 2482, 2627,  538,    1,\n",
       "          944,  525,    1, 3399, 7667,  953,   26,   87,  492, 2057,    0,    0,\n",
       "            0,    0,    0,    0,    0,    0,    0,    0,    0,    0,    0,    0,\n",
       "            0,    0,    0,    0,    0,    0,    0,    0,    0,    0,    0,    0,\n",
       "            0,    0,    0,    0,    0,    0,    0,    0,    0,    0,    0,    0,\n",
       "            0,    0,    0,    0,    0,    0,    0,    0,    0,    0,    0,    0,\n",
       "            0,    0,    0,    0,    0,    0,    0,    0,    0,    0,    0,    0]),\n",
       " tensor(0.))"
      ]
     },
     "execution_count": 47,
     "metadata": {},
     "output_type": "execute_result"
    }
   ],
   "source": [
    "train_dataset[0]"
   ]
  },
  {
   "cell_type": "code",
   "execution_count": 48,
   "metadata": {
    "execution": {
     "iopub.execute_input": "2025-06-24T10:35:53.447429Z",
     "iopub.status.busy": "2025-06-24T10:35:53.446490Z",
     "iopub.status.idle": "2025-06-24T10:35:53.458089Z",
     "shell.execute_reply": "2025-06-24T10:35:53.457595Z",
     "shell.execute_reply.started": "2025-06-24T10:35:53.447405Z"
    },
    "trusted": true
   },
   "outputs": [],
   "source": [
    "# Create data loaders\n",
    "batch_size = 32\n",
    "\n",
    "train_loader = DataLoader(train_dataset, batch_size=batch_size, shuffle=True)\n",
    "val_loader   = DataLoader(val_dataset, batch_size=batch_size, shuffle=False)\n",
    "test_loader  = DataLoader(test_dataset, batch_size=batch_size, shuffle=False)\n"
   ]
  },
  {
   "cell_type": "markdown",
   "metadata": {},
   "source": [
    "## Choose the model"
   ]
  },
  {
   "cell_type": "code",
   "execution_count": 49,
   "metadata": {
    "execution": {
     "iopub.execute_input": "2025-06-24T10:35:53.460080Z",
     "iopub.status.busy": "2025-06-24T10:35:53.459891Z",
     "iopub.status.idle": "2025-06-24T10:35:53.471702Z",
     "shell.execute_reply": "2025-06-24T10:35:53.471039Z",
     "shell.execute_reply.started": "2025-06-24T10:35:53.460065Z"
    },
    "trusted": true
   },
   "outputs": [],
   "source": [
    "class LSTMClassifier(nn.Module):\n",
    "    def __init__(self, vocab_size, embedding_dim=100, hidden_dim=128, num_layers=1, dropout=0.5, bidirectional=True):\n",
    "        super(LSTMClassifier, self).__init__()\n",
    "        self.embedding = nn.Embedding(vocab_size, embedding_dim, padding_idx=0)\n",
    "        self.lstm = nn.LSTM(\n",
    "            input_size=embedding_dim,\n",
    "            hidden_size=hidden_dim,\n",
    "            num_layers=num_layers,\n",
    "            batch_first=True,\n",
    "            bidirectional=bidirectional,\n",
    "            dropout=dropout if num_layers > 1 else 0\n",
    "        )\n",
    "        self.dropout = nn.Dropout(dropout)\n",
    "        self.fc = nn.Linear(hidden_dim * (2 if bidirectional else 1), 1)\n",
    "        self.sigmoid = nn.Sigmoid()\n",
    "\n",
    "    def forward(self, x):\n",
    "        embedded = self.embedding(x)  # [batch_size, seq_len, embed_dim]\n",
    "        lstm_out, _ = self.lstm(embedded)  # lstm_out: [batch_size, seq_len, hidden_dim * num_directions]\n",
    "        # Take last hidden state (can use mean or max pooling too)\n",
    "        last_hidden = lstm_out[:, -1, :]  # [batch_size, hidden_dim * num_directions]\n",
    "        out = self.dropout(last_hidden)\n",
    "        out = self.fc(out)\n",
    "        return self.sigmoid(out).squeeze()\n"
   ]
  },
  {
   "cell_type": "code",
   "execution_count": 50,
   "metadata": {
    "execution": {
     "iopub.execute_input": "2025-06-24T10:35:54.946705Z",
     "iopub.status.busy": "2025-06-24T10:35:54.946008Z",
     "iopub.status.idle": "2025-06-24T10:35:54.965461Z",
     "shell.execute_reply": "2025-06-24T10:35:54.964724Z",
     "shell.execute_reply.started": "2025-06-24T10:35:54.946672Z"
    },
    "trusted": true
   },
   "outputs": [],
   "source": [
    "model = LSTMClassifier(\n",
    "    vocab_size=len(word2idx),\n",
    "    embedding_dim=100,\n",
    "    hidden_dim=128,\n",
    "    num_layers=1,\n",
    "    dropout=0.5,\n",
    "    bidirectional=True\n",
    ")\n"
   ]
  },
  {
   "cell_type": "code",
   "execution_count": 51,
   "metadata": {
    "execution": {
     "iopub.execute_input": "2025-06-24T10:35:58.454344Z",
     "iopub.status.busy": "2025-06-24T10:35:58.454073Z",
     "iopub.status.idle": "2025-06-24T10:35:58.459603Z",
     "shell.execute_reply": "2025-06-24T10:35:58.458933Z",
     "shell.execute_reply.started": "2025-06-24T10:35:58.454324Z"
    },
    "trusted": true
   },
   "outputs": [
    {
     "data": {
      "text/plain": [
       "device(type='cuda')"
      ]
     },
     "execution_count": 51,
     "metadata": {},
     "output_type": "execute_result"
    }
   ],
   "source": [
    "# Move model to GPU if available\n",
    "device = torch.device(\"cuda\" if torch.cuda.is_available() else \"cpu\")\n",
    "device"
   ]
  },
  {
   "cell_type": "code",
   "execution_count": 52,
   "metadata": {
    "execution": {
     "iopub.execute_input": "2025-06-24T10:35:59.354832Z",
     "iopub.status.busy": "2025-06-24T10:35:59.354146Z",
     "iopub.status.idle": "2025-06-24T10:35:59.361297Z",
     "shell.execute_reply": "2025-06-24T10:35:59.360599Z",
     "shell.execute_reply.started": "2025-06-24T10:35:59.354806Z"
    },
    "trusted": true
   },
   "outputs": [],
   "source": [
    "model = model.to(device)"
   ]
  },
  {
   "cell_type": "markdown",
   "metadata": {},
   "source": [
    "## Model training"
   ]
  },
  {
   "cell_type": "code",
   "execution_count": 53,
   "metadata": {
    "execution": {
     "iopub.execute_input": "2025-06-24T10:36:00.939479Z",
     "iopub.status.busy": "2025-06-24T10:36:00.939216Z",
     "iopub.status.idle": "2025-06-24T10:36:00.944388Z",
     "shell.execute_reply": "2025-06-24T10:36:00.943554Z",
     "shell.execute_reply.started": "2025-06-24T10:36:00.939458Z"
    },
    "trusted": true
   },
   "outputs": [],
   "source": [
    "# Loss function\n",
    "criterion = nn.BCELoss()\n",
    "\n",
    "# Optimizer\n",
    "optimizer = optim.Adam(model.parameters(), lr=1e-3)\n"
   ]
  },
  {
   "cell_type": "code",
   "execution_count": 54,
   "metadata": {
    "execution": {
     "iopub.execute_input": "2025-06-24T10:36:02.840410Z",
     "iopub.status.busy": "2025-06-24T10:36:02.839744Z",
     "iopub.status.idle": "2025-06-24T10:36:02.844556Z",
     "shell.execute_reply": "2025-06-24T10:36:02.843920Z",
     "shell.execute_reply.started": "2025-06-24T10:36:02.840377Z"
    },
    "trusted": true
   },
   "outputs": [],
   "source": [
    "num_epochs = 10"
   ]
  },
  {
   "cell_type": "code",
   "execution_count": 55,
   "metadata": {
    "execution": {
     "iopub.execute_input": "2025-06-24T10:36:20.938403Z",
     "iopub.status.busy": "2025-06-24T10:36:20.937825Z",
     "iopub.status.idle": "2025-06-24T10:38:23.474931Z",
     "shell.execute_reply": "2025-06-24T10:38:23.474171Z",
     "shell.execute_reply.started": "2025-06-24T10:36:20.938381Z"
    },
    "trusted": true
   },
   "outputs": [
    {
     "name": "stderr",
     "output_type": "stream",
     "text": [
      "                                                                              \r"
     ]
    },
    {
     "name": "stdout",
     "output_type": "stream",
     "text": [
      "[Epoch 1] Train Loss: 0.6358 | Train Acc: 0.6155 | Val Loss: 0.6554 | Val Acc: 0.5627\n"
     ]
    },
    {
     "name": "stderr",
     "output_type": "stream",
     "text": [
      "                                                                              \r"
     ]
    },
    {
     "name": "stdout",
     "output_type": "stream",
     "text": [
      "[Epoch 2] Train Loss: 0.6384 | Train Acc: 0.5954 | Val Loss: 0.6781 | Val Acc: 0.5506\n"
     ]
    },
    {
     "name": "stderr",
     "output_type": "stream",
     "text": [
      "                                                                              \r"
     ]
    },
    {
     "name": "stdout",
     "output_type": "stream",
     "text": [
      "[Epoch 3] Train Loss: 0.6500 | Train Acc: 0.5774 | Val Loss: 0.3775 | Val Acc: 0.8722\n"
     ]
    },
    {
     "name": "stderr",
     "output_type": "stream",
     "text": [
      "                                                                              \r"
     ]
    },
    {
     "name": "stdout",
     "output_type": "stream",
     "text": [
      "[Epoch 4] Train Loss: 0.4149 | Train Acc: 0.8176 | Val Loss: 0.3858 | Val Acc: 0.8214\n"
     ]
    },
    {
     "name": "stderr",
     "output_type": "stream",
     "text": [
      "                                                                              \r"
     ]
    },
    {
     "name": "stdout",
     "output_type": "stream",
     "text": [
      "[Epoch 5] Train Loss: 0.3595 | Train Acc: 0.8421 | Val Loss: 0.3613 | Val Acc: 0.8310\n"
     ]
    },
    {
     "name": "stderr",
     "output_type": "stream",
     "text": [
      "                                                                              \r"
     ]
    },
    {
     "name": "stdout",
     "output_type": "stream",
     "text": [
      "[Epoch 6] Train Loss: 0.3965 | Train Acc: 0.8135 | Val Loss: 0.4304 | Val Acc: 0.7887\n"
     ]
    },
    {
     "name": "stderr",
     "output_type": "stream",
     "text": [
      "                                                                              \r"
     ]
    },
    {
     "name": "stdout",
     "output_type": "stream",
     "text": [
      "[Epoch 7] Train Loss: 0.3842 | Train Acc: 0.8217 | Val Loss: 0.3982 | Val Acc: 0.8162\n"
     ]
    },
    {
     "name": "stderr",
     "output_type": "stream",
     "text": [
      "                                                                              \r"
     ]
    },
    {
     "name": "stdout",
     "output_type": "stream",
     "text": [
      "[Epoch 8] Train Loss: 0.3153 | Train Acc: 0.8677 | Val Loss: 0.2524 | Val Acc: 0.8677\n"
     ]
    },
    {
     "name": "stderr",
     "output_type": "stream",
     "text": [
      "                                                                               \r"
     ]
    },
    {
     "name": "stdout",
     "output_type": "stream",
     "text": [
      "[Epoch 9] Train Loss: 0.1731 | Train Acc: 0.9384 | Val Loss: 0.0510 | Val Acc: 0.9877\n"
     ]
    },
    {
     "name": "stderr",
     "output_type": "stream",
     "text": [
      "                                                                                "
     ]
    },
    {
     "name": "stdout",
     "output_type": "stream",
     "text": [
      "[Epoch 10] Train Loss: 0.0440 | Train Acc: 0.9917 | Val Loss: 0.0335 | Val Acc: 0.9926\n"
     ]
    },
    {
     "name": "stderr",
     "output_type": "stream",
     "text": [
      "\r"
     ]
    }
   ],
   "source": [
    "for epoch in range(num_epochs):\n",
    "    model.train()\n",
    "    train_loss = 0.0\n",
    "    correct, total = 0, 0\n",
    "\n",
    "    loop = tqdm(train_loader, desc=f\"Epoch {epoch+1}/{num_epochs}\", leave=False)\n",
    "    for inputs, labels in loop:\n",
    "        inputs, labels = inputs.to(device), labels.to(device)\n",
    "\n",
    "        optimizer.zero_grad()\n",
    "        outputs = model(inputs)\n",
    "\n",
    "        loss = criterion(outputs, labels)\n",
    "        loss.backward()\n",
    "        optimizer.step()\n",
    "\n",
    "        train_loss += loss.item() * inputs.size(0)\n",
    "\n",
    "        preds = (outputs >= 0.5).float()\n",
    "        correct += (preds == labels).sum().item()\n",
    "        total += labels.size(0)\n",
    "\n",
    "        # Update progress bar\n",
    "        loop.set_postfix(loss=loss.item())\n",
    "\n",
    "    train_acc = correct / total\n",
    "    avg_train_loss = train_loss / total\n",
    "\n",
    "    # Validation\n",
    "    model.eval()\n",
    "    val_loss, val_correct, val_total = 0.0, 0, 0\n",
    "    with torch.no_grad():\n",
    "        val_loop = tqdm(val_loader, desc=\"Validation\", leave=False)\n",
    "        for inputs, labels in val_loop:\n",
    "            inputs, labels = inputs.to(device), labels.to(device)\n",
    "            outputs = model(inputs)\n",
    "\n",
    "            loss = criterion(outputs, labels)\n",
    "            val_loss += loss.item() * inputs.size(0)\n",
    "\n",
    "            preds = (outputs >= 0.5).float()\n",
    "            val_correct += (preds == labels).sum().item()\n",
    "            val_total += labels.size(0)\n",
    "\n",
    "            val_loop.set_postfix(val_loss=loss.item())\n",
    "\n",
    "    val_acc = val_correct / val_total\n",
    "    avg_val_loss = val_loss / val_total\n",
    "\n",
    "    # Epoch summary\n",
    "    print(f\"[Epoch {epoch+1}] Train Loss: {avg_train_loss:.4f} | Train Acc: {train_acc:.4f} | Val Loss: {avg_val_loss:.4f} | Val Acc: {val_acc:.4f}\")\n"
   ]
  },
  {
   "cell_type": "markdown",
   "metadata": {},
   "source": [
    "# Model Evaluation."
   ]
  },
  {
   "cell_type": "code",
   "execution_count": 56,
   "metadata": {
    "execution": {
     "iopub.execute_input": "2025-06-24T10:38:53.798014Z",
     "iopub.status.busy": "2025-06-24T10:38:53.797765Z",
     "iopub.status.idle": "2025-06-24T10:38:53.805665Z",
     "shell.execute_reply": "2025-06-24T10:38:53.804829Z",
     "shell.execute_reply.started": "2025-06-24T10:38:53.797996Z"
    },
    "trusted": true
   },
   "outputs": [],
   "source": [
    "def evaluate_model(model, dataloader, device, title=\"Confusion Matrix\"):\n",
    "    model.eval()\n",
    "    all_preds = []\n",
    "    all_labels = []\n",
    "\n",
    "    with torch.no_grad():\n",
    "        for inputs, labels in tqdm(dataloader, desc=\"Evaluating\", leave=False):\n",
    "            inputs = inputs.to(device)\n",
    "            labels = labels.to(device)\n",
    "            \n",
    "            outputs = model(inputs)\n",
    "            preds = (outputs >= 0.5).float()\n",
    "\n",
    "            all_preds.extend(preds.cpu().numpy())\n",
    "            all_labels.extend(labels.cpu().numpy())\n",
    "\n",
    "    # Convert to numpy arrays\n",
    "    all_preds = np.array(all_preds)\n",
    "    all_labels = np.array(all_labels)\n",
    "\n",
    "    # Compute evaluation metrics\n",
    "    acc  = accuracy_score(all_labels, all_preds)\n",
    "    prec = precision_score(all_labels, all_preds)\n",
    "    rec  = recall_score(all_labels, all_preds)\n",
    "    f1   = f1_score(all_labels, all_preds)\n",
    "\n",
    "    print(f\"Evaluation Metrics:\")\n",
    "    print(f\"Accuracy : {acc:.4f}\")\n",
    "    print(f\"Precision: {prec:.4f}\")\n",
    "    print(f\"Recall   : {rec:.4f}\")\n",
    "    print(f\"F1 Score : {f1:.4f}\")\n",
    "\n",
    "    # Confusion matrix\n",
    "    cm = confusion_matrix(all_labels, all_preds)\n",
    "    plt.figure(figsize=(6, 5))\n",
    "    sns.heatmap(cm, annot=True, fmt='d', cmap='Blues', xticklabels=[\"Fake\", \"Real\"], yticklabels=[\"Fake\", \"Real\"])\n",
    "    plt.xlabel(\"Predicted Label\")\n",
    "    plt.ylabel(\"True Label\")\n",
    "    plt.title(title)\n",
    "    plt.show()\n"
   ]
  },
  {
   "cell_type": "code",
   "execution_count": 57,
   "metadata": {
    "execution": {
     "iopub.execute_input": "2025-06-24T10:38:53.807240Z",
     "iopub.status.busy": "2025-06-24T10:38:53.806992Z",
     "iopub.status.idle": "2025-06-24T10:38:54.839493Z",
     "shell.execute_reply": "2025-06-24T10:38:54.838929Z",
     "shell.execute_reply.started": "2025-06-24T10:38:53.807218Z"
    },
    "trusted": true
   },
   "outputs": [
    {
     "name": "stderr",
     "output_type": "stream",
     "text": [
      "                                                              \r"
     ]
    },
    {
     "name": "stdout",
     "output_type": "stream",
     "text": [
      "✅ Evaluation Metrics:\n",
      "Accuracy : 0.9932\n",
      "Precision: 0.9922\n",
      "Recall   : 0.9935\n",
      "F1 Score : 0.9928\n"
     ]
    },
    {
     "data": {
      "image/png": "[encoded data removed]",
      "text/plain": [
       "<Figure size 600x500 with 2 Axes>"
      ]
     },
     "metadata": {},
     "output_type": "display_data"
    }
   ],
   "source": [
    "evaluate_model(model, test_loader, device, title=\"Test Confusion Matrix\")\n"
   ]
  },
  {
   "cell_type": "markdown",
   "metadata": {},
   "source": [
    "So, after reaching a very high accuracy, we should save the model."
   ]
  },
  {
   "cell_type": "markdown",
   "metadata": {},
   "source": [
    "## Save the model"
   ]
  },
  {
   "cell_type": "code",
   "execution_count": 58,
   "metadata": {
    "execution": {
     "iopub.execute_input": "2025-06-24T10:38:54.840344Z",
     "iopub.status.busy": "2025-06-24T10:38:54.840164Z",
     "iopub.status.idle": "2025-06-24T10:38:54.853440Z",
     "shell.execute_reply": "2025-06-24T10:38:54.852903Z",
     "shell.execute_reply.started": "2025-06-24T10:38:54.840330Z"
    },
    "trusted": true
   },
   "outputs": [],
   "source": [
    "torch.save(model, 'model.pt')"
   ]
  },
  {
   "attachments": {
    "7dfdeb5a-32bd-433d-854b-270d05949bb7.png": {
     "image/png": "[encoded data removed]"
    }
   },
   "cell_type": "markdown",
   "metadata": {},
   "source": [
    "![image.png](attachment:7dfdeb5a-32bd-433d-854b-270d05949bb7.png)!"
   ]
  }
 ],
 "metadata": {
  "kaggle": {
   "accelerator": "gpu",
   "dataSources": [
    {
     "datasetId": 4831777,
     "sourceId": 8165591,
     "sourceType": "datasetVersion"
    }
   ],
   "dockerImageVersionId": 31041,
   "isGpuEnabled": true,
   "isInternetEnabled": true,
   "language": "python",
   "sourceType": "notebook"
  },
  "kernelspec": {
   "display_name": "Python 3",
   "language": "python",
   "name": "python3"
  },
  "language_info": {
   "codemirror_mode": {
    "name": "ipython",
    "version": 3
   },
   "file_extension": ".py",
   "mimetype": "text/x-python",
   "name": "python",
   "nbconvert_exporter": "python",
   "pygments_lexer": "ipython3",
   "version": "3.11.11"
  }
 },
 "nbformat": 4,
 "nbformat_minor": 4
}
